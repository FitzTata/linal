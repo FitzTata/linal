{
 "cells": [
  {
   "cell_type": "markdown",
   "metadata": {
    "id": "qyU0wiO2CG2Q"
   },
   "source": [
    "# Линейные преобразования"
   ]
  },
  {
   "cell_type": "markdown",
   "metadata": {},
   "source": [
    "## Практическое задание"
   ]
  },
  {
   "cell_type": "markdown",
   "metadata": {
    "id": "sNOgFRFrCG2S"
   },
   "source": [
    "\n",
    "\n",
    "\n",
    "\n",
    "__1.__ Найдите собственные векторы и собственные значения для линейного оператора, заданного матрицей:\n",
    "\n",
    "$$A=\\begin{pmatrix}\n",
    "-1 & -6\\\\ \n",
    "2 & 6\n",
    "\\end{pmatrix}.$$\n",
    "\n"
   ]
  },
  {
   "cell_type": "markdown",
   "metadata": {},
   "source": [
    "Сначала найду собственные значения. Лямбду писать неудобно, поэтому назову их l (l1 и l2)."
   ]
  },
  {
   "cell_type": "markdown",
   "metadata": {},
   "source": [
    "(-1 - l)(6 - l) + 12 = 0,  \n",
    "l^2 - 5l + 6 = 0,  \n",
    "l1 = 2  \n",
    "l2 = 3\n"
   ]
  },
  {
   "cell_type": "markdown",
   "metadata": {},
   "source": [
    "Теперь для каждой l решу уравнение вида Ax = xl относительно x (x1 и х2)"
   ]
  },
  {
   "cell_type": "markdown",
   "metadata": {},
   "source": [
    "Для l1 = 2 получаю систему:"
   ]
  },
  {
   "cell_type": "markdown",
   "metadata": {},
   "source": [
    "-x1 - 6x2 = 2x1  \n",
    "2x1 + 6x2 = 2x2"
   ]
  },
  {
   "cell_type": "markdown",
   "metadata": {},
   "source": [
    "Откуда получаю x1 = -2x2 для любых x1, x2. Так что пусть будет x = (x1, x2) = (-2, 1)"
   ]
  },
  {
   "cell_type": "markdown",
   "metadata": {},
   "source": [
    "Для l2 = 3 будет почти такая же система:"
   ]
  },
  {
   "cell_type": "markdown",
   "metadata": {},
   "source": [
    "-x1 - 6x2 = 3x1  \n",
    "2x1 + 6x2 = 3x2"
   ]
  },
  {
   "cell_type": "markdown",
   "metadata": {},
   "source": [
    "Откуда получаю x1 = -1,5x2 для любых x1, x2. Так что пусть будет x = (x1, x2) = (-3, 2)"
   ]
  },
  {
   "cell_type": "markdown",
   "metadata": {},
   "source": [
    "Проверю себя."
   ]
  },
  {
   "cell_type": "code",
   "execution_count": 1,
   "metadata": {},
   "outputs": [],
   "source": [
    "import numpy as np"
   ]
  },
  {
   "cell_type": "code",
   "execution_count": 3,
   "metadata": {},
   "outputs": [
    {
     "data": {
      "text/plain": [
       "(array([2., 3.]),\n",
       " array([[-0.89442719,  0.83205029],\n",
       "        [ 0.4472136 , -0.5547002 ]]))"
      ]
     },
     "execution_count": 3,
     "metadata": {},
     "output_type": "execute_result"
    }
   ],
   "source": [
    "a = np.array([-1, -6, 2, 6]).reshape(2, 2)\n",
    "np.linalg.eig(a)"
   ]
  },
  {
   "cell_type": "markdown",
   "metadata": {},
   "source": [
    "__2.__ Дан оператор поворота на 180 градусов, задаваемый матрицей:\n",
    "\n",
    "$$A=\\begin{pmatrix}\n",
    "-1 & 0\\\\ \n",
    "0 & -1\n",
    "\\end{pmatrix}.$$\n",
    "\n",
    "Покажите, что __любой__ вектор считается для него собственным.\n",
    "\n",
    "\n",
    "\n"
   ]
  },
  {
   "cell_type": "markdown",
   "metadata": {},
   "source": [
    "Распишу уравнение Ax = xl для x1 и x2:"
   ]
  },
  {
   "cell_type": "markdown",
   "metadata": {},
   "source": [
    "-x1 + 0x2 = lx1  \n",
    "0x1 - x2 = lx2.  \n",
    "Получится, что при l = -1 система станет тождеством:  \n",
    "-x1 = -x1  \n",
    "-x2 = -x2,  \n",
    "А значит выполняется для любых x (x1, x2)."
   ]
  },
  {
   "cell_type": "markdown",
   "metadata": {},
   "source": [
    "__3.__ Пусть линейный оператор задан матрицей:\n",
    "\n",
    "$$A=\\begin{pmatrix}\n",
    "1 & 1\\\\ \n",
    "-1 & 3\n",
    "\\end{pmatrix}.$$\n",
    "\n",
    "Установите, считается ли вектор $x=(1,1)$ собственным вектором этого линейного оператора."
   ]
  },
  {
   "cell_type": "markdown",
   "metadata": {},
   "source": [
    "Система уравнений Ax = xl для x = (x1, x2) = (1, 1) принимает вид:"
   ]
  },
  {
   "cell_type": "markdown",
   "metadata": {},
   "source": [
    "1 + 1 = l  \n",
    "-1 + 3 = l  "
   ]
  },
  {
   "cell_type": "markdown",
   "metadata": {},
   "source": [
    "l = 2, нет противоречий. Значит, вектор x - собственный"
   ]
  },
  {
   "cell_type": "markdown",
   "metadata": {
    "id": "fZvLaIPW0JY1"
   },
   "source": [
    "**4.** Пусть линейный оператор задан матрицей:\n",
    "\n",
    "$$A=\\begin{pmatrix} 0 & 3 & 0\\\\ 3 & 0 & 0\\\\ 0 & 0 & 3 \\end{pmatrix}.$$\n",
    "\n",
    "Установите, считается ли вектор $x=(3, -3, -4)$ собственным вектором этого линейного оператора."
   ]
  },
  {
   "cell_type": "markdown",
   "metadata": {},
   "source": [
    "Алгоритм тот же. "
   ]
  },
  {
   "cell_type": "markdown",
   "metadata": {},
   "source": [
    "0 - 9 + 0 = 3l  \n",
    "9 - 0 + 0 = -3l  \n",
    "0 - 0 - 12 = -4l,  \n",
    "или  \n",
    "l = -3  \n",
    "l = -3  \n",
    "l = 3."
   ]
  },
  {
   "cell_type": "markdown",
   "metadata": {},
   "source": [
    "Получили противоречие. Значит, вектор x не является собственным."
   ]
  }
 ],
 "metadata": {
  "colab": {
   "collapsed_sections": [
    "u60X7ANcCG2V"
   ],
   "name": "Методичка №3.ipynb",
   "provenance": []
  },
  "kernelspec": {
   "display_name": "Python 3 (ipykernel)",
   "language": "python",
   "name": "python3"
  },
  "language_info": {
   "codemirror_mode": {
    "name": "ipython",
    "version": 3
   },
   "file_extension": ".py",
   "mimetype": "text/x-python",
   "name": "python",
   "nbconvert_exporter": "python",
   "pygments_lexer": "ipython3",
   "version": "3.10.0"
  }
 },
 "nbformat": 4,
 "nbformat_minor": 1
}
